{
 "cells": [
  {
   "cell_type": "code",
   "execution_count": null,
   "id": "b0640fda",
   "metadata": {},
   "outputs": [],
   "source": [
    "# SCRIPT TO, BASED ON A HUBSPOT XLSX FILE, EXTRACT THE INDUSTRY OF ANY GIVEN COMPANY (THAT WASNT YET MAPPED) - BASED ON LINKEDIN INFORMATION\n"
   ]
  },
  {
   "cell_type": "code",
   "execution_count": null,
   "id": "6424384c",
   "metadata": {},
   "outputs": [],
   "source": [
    "from os.path import dirname, basename, isfile\n",
    "\n",
    "import ast\n",
    "import time\n",
    "\n",
    "from . import actions\n",
    "from selenium.webdriver.support.wait import WebDriverWait\n",
    "from selenium.webdriver.support import expected_conditions as EC\n",
    "from selenium import webdriver\n",
    "from selenium.webdriver.common.by import By\n",
    "from selenium.webdriver.common.keys import Keys\n",
    "import pandas as pd\n",
    "from collections import OrderedDict\n",
    "from selenium import webdriver"
   ]
  },
  {
   "cell_type": "code",
   "execution_count": null,
   "id": "5d5b3fa4",
   "metadata": {},
   "outputs": [],
   "source": [
    "df = pd.read_excel('other_industries.xlsx')  \n",
    "df_limited = df[['First Name', 'Last Name', 'Company Name', 'Email']]"
   ]
  },
  {
   "cell_type": "code",
   "execution_count": null,
   "id": "930193e5",
   "metadata": {},
   "outputs": [],
   "source": [
    "driver = webdriver.Chrome()\n",
    "\n",
    "email = \"LINKEDIN EMAIL\"\n",
    "password = \"LINKEDIN PWD\"\n",
    "actions.login(driver, email, password)\n"
   ]
  },
  {
   "cell_type": "code",
   "execution_count": null,
   "id": "1583a767",
   "metadata": {},
   "outputs": [],
   "source": [
    "companies = []"
   ]
  },
  {
   "cell_type": "code",
   "execution_count": null,
   "id": "ac008fb9",
   "metadata": {},
   "outputs": [],
   "source": [
    "from tqdm import tqdm \n",
    "\n",
    "for i in tqdm(df_limited['Company Name'].dropna().unique()):\n",
    "    \n",
    "    \n",
    "    linkedin_industry, linkedin_company_name, linkedin_url, linkedin_summary = [None] *4\n",
    "    \n",
    "    try:\n",
    "        driver.get(f\"https://www.linkedin.com/search/results/companies/?keywords={i}&origin=SWITCH_SEARCH_VERTICAL&sid=dFD\")\n",
    "\n",
    "        linkedin_industry = driver.find_element(By.CLASS_NAME, 'entity-result__primary-subtitle').text.split(' • ')[0]\n",
    "        linkedin_company_name = driver.find_element(By.CLASS_NAME, 'entity-result__title-text').text\n",
    "        linkedin_url = driver.find_element(By.CLASS_NAME, 'entity-result__title-text').find_element(By.TAG_NAME, \"a\").get_attribute('href')\n",
    "    except:\n",
    "        pass\n",
    "    try:\n",
    "        linkedin_summary = driver.find_element(By.CLASS_NAME, 'entity-result__summary').text\n",
    "    except:\n",
    "        pass\n",
    "    \n",
    "    companies.append([i, linkedin_industry, linkedin_company_name, linkedin_url, linkedin_summary])\n",
    "    time.sleep(2)\n",
    "        \n",
    "        "
   ]
  },
  {
   "cell_type": "code",
   "execution_count": null,
   "id": "f52f0738",
   "metadata": {},
   "outputs": [],
   "source": [
    "company_df = pd.DataFrame(companies, columns = ['Company Name', 'linkedin_industry', 'linkedin_company', 'linkedin_link', 'linkedin_summary'])"
   ]
  },
  {
   "cell_type": "code",
   "execution_count": null,
   "id": "49bc4dc5",
   "metadata": {},
   "outputs": [],
   "source": [
    "import re\n",
    "\n",
    "def regex_name(row):\n",
    "    try: \n",
    "        c = row['Company Name'].lower().strip()\n",
    "        n = row['linkedin_company'].lower().strip()\n",
    "        \n",
    "        if re.search(c, n):\n",
    "            return True\n",
    "\n",
    "        elif re.search(n, c):\n",
    "            return True\n",
    "    except:\n",
    "        pass\n",
    "    \n",
    "    return False"
   ]
  },
  {
   "cell_type": "code",
   "execution_count": null,
   "id": "bf19446c",
   "metadata": {},
   "outputs": [],
   "source": [
    "company_df['regex_match'] = company_df.apply(regex_name, axis=1)"
   ]
  },
  {
   "cell_type": "code",
   "execution_count": null,
   "id": "c55fe21c",
   "metadata": {},
   "outputs": [],
   "source": [
    "company_df.head()"
   ]
  },
  {
   "cell_type": "code",
   "execution_count": null,
   "id": "4db3aedc",
   "metadata": {
    "scrolled": false
   },
   "outputs": [],
   "source": [
    "company_df.loc[company_df.linkedin_industry.isna()].shape"
   ]
  },
  {
   "cell_type": "code",
   "execution_count": null,
   "id": "0dafffe7",
   "metadata": {},
   "outputs": [],
   "source": [
    "df3 = df_limited.merge(company_df, how='outer', on='Company Name')"
   ]
  },
  {
   "cell_type": "code",
   "execution_count": null,
   "id": "ba5cd6f3",
   "metadata": {},
   "outputs": [],
   "source": [
    "personal_domains = ['aol',\n",
    " 'gmail',\n",
    " 'gmx',\n",
    " 'googlemail',\n",
    " 'hotmail',\n",
    " 'hotmail.co',\n",
    " 'icloudlive',\n",
    " 'live.co',\n",
    " 'outlook',\n",
    " 'web',\n",
    " 'yahoo',\n",
    " 'yahoo.co',\n",
    " 'yahoo.com',\n",
    " 'ymail']"
   ]
  },
  {
   "cell_type": "code",
   "execution_count": null,
   "id": "b84c5d31",
   "metadata": {
    "scrolled": false
   },
   "outputs": [],
   "source": [
    "email = []\n",
    "for email in df3.loc[(df3.linkedin_industry.isna()) & (df3['Company Name'].isna())].Email.values:\n",
    "\n",
    "    if not email is np.nan:\n",
    "        if not any(ele in email for ele in personal_domains):\n",
    "            pattern = r\"@([A-Za-z0-9.-]+)\\.\"\n",
    "            match = re.findall(pattern, email)\n",
    "            query_company = match[0].split('.')[0]\n",
    "    \n",
    "            linkedin_industry, linkedin_company_name, linkedin_url, linkedin_summary = [None] *4\n",
    "\n",
    "            try:\n",
    "\n",
    "                # maybe think about preprocessing of company name. eg Lower case, remove spa etc...\n",
    "                driver.get(f\"https://www.linkedin.com/search/results/companies/?keywords={query_company}&origin=SWITCH_SEARCH_VERTICAL&sid=dFD\")\n",
    "\n",
    "                linkedin_industry = driver.find_element(By.CLASS_NAME, 'entity-result__primary-subtitle').text.split(' • ')[0]\n",
    "                linkedin_company_name = driver.find_element(By.CLASS_NAME, 'entity-result__title-text').text\n",
    "                linkedin_url = driver.find_element(By.CLASS_NAME, 'entity-result__title-text').find_element(By.TAG_NAME, \"a\").get_attribute('href')\n",
    "            except:\n",
    "                pass\n",
    "            try:\n",
    "                linkedin_summary = driver.find_element(By.CLASS_NAME, 'entity-result__summary').text\n",
    "            except:\n",
    "                pass\n",
    "\n",
    "            email.append([email, linkedin_industry, linkedin_company_name, linkedin_url, linkedin_summary])\n",
    "            time.sleep(2)\n",
    "            "
   ]
  },
  {
   "cell_type": "code",
   "execution_count": null,
   "id": "46d5df16",
   "metadata": {},
   "outputs": [],
   "source": [
    "df_email = pd.DataFrame(email, columns = ['Email', 'linkedin_industry', 'linkedin_company', 'linkedin_link', 'linkedin_summary'])\n",
    "\n",
    "\n",
    "def merge_email(row):\n",
    "\n",
    "    email = row['Email']\n",
    "    df3.loc[df3['Email'] == email, 'linkedin_industry'] = row['linkedin_industry']\n",
    "    df3.loc[df3['Email'] == email, 'linkedin_company'] = row['linkedin_company']\n",
    "    df3.loc[df3['Email'] == email, 'linkedin_link'] = row['linkedin_link']\n",
    "    df3.loc[df3['Email'] == email, 'linkedin_summary'] = row['linkedin_summary']\n",
    "    \n",
    "\n",
    "_ = df_email.apply(merge_email, axis = 1)"
   ]
  },
  {
   "cell_type": "code",
   "execution_count": null,
   "id": "e3b892a4",
   "metadata": {},
   "outputs": [],
   "source": [
    "df3.to_excel(\"output.xlsx\")  "
   ]
  }
 ],
 "metadata": {
  "kernelspec": {
   "display_name": "Python 3 (ipykernel)",
   "language": "python",
   "name": "python3"
  },
  "language_info": {
   "codemirror_mode": {
    "name": "ipython",
    "version": 3
   },
   "file_extension": ".py",
   "mimetype": "text/x-python",
   "name": "python",
   "nbconvert_exporter": "python",
   "pygments_lexer": "ipython3",
   "version": "3.8.9"
  }
 },
 "nbformat": 4,
 "nbformat_minor": 5
}
